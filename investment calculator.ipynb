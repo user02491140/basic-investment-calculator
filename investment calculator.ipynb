{
 "cells": [
  {
   "cell_type": "code",
   "execution_count": 310,
   "id": "f4fe59ef-9312-42c0-b61e-a41f0b18280e",
   "metadata": {},
   "outputs": [
    {
     "name": "stdout",
     "output_type": "stream",
     "text": [
      "please enter the initial amount invested 54500\n",
      "please enter the value of the investment now 43600\n",
      "please enter the fees on you investment (if there were no fees enter 0) 500\n",
      "please enter the risk free rate: 0.045\n",
      "enter the ticker of the company you are invested in: goss\n",
      "enter the period you are invested for(format: 1d,3mo,1y): 3mo\n"
     ]
    }
   ],
   "source": [
    "initial_value = float(input(\"please enter the initial amount invested\"))\n",
    "final_value = float(input(\"please enter the value of the investment now\"))\n",
    "fees = float(input(\"please enter the fees on you investment (if there were no fees enter 0)\"))\n",
    "risk_free_rate = float(input(\"please enter the risk free rate:\"))\n",
    "company = input(\"enter the ticker of the company you are invested in:\")\n",
    "period_len = input(\"enter the period you are invested for(format: 1d,3mo,1y):\")"
   ]
  },
  {
   "cell_type": "code",
   "execution_count": 312,
   "id": "8470561a-ea2d-4618-9f00-fa16c44446ef",
   "metadata": {},
   "outputs": [
    {
     "name": "stdout",
     "output_type": "stream",
     "text": [
      "NVIDIA Corporation\n",
      "gross return: $-10900.0\n",
      "growth rate: -0.2%\n",
      "net return: $-65900.0\n",
      "roi: -19.818181818181824%\n",
      "mean price: 1.1465483769293754\n",
      "standard deviation: 0.05763138433565377\n",
      "sharpe ratio: -4.251155907917871\n",
      "p/e ratio: -3.2\n"
     ]
    }
   ],
   "source": [
    "company_name = stock.info[('longName')]\n",
    "print(company_name)\n",
    "gross_return = (final_value - initial_value)\n",
    "growth_rate =(final_value - initial_value)/initial_value\n",
    "print(\"gross return: ${}\".format(gross_return))\n",
    "print(\"growth rate: {}%\".format(growth_rate))\n",
    "\n",
    "investment_cost = initial_value + fees\n",
    "net_return = gross_return - investment_cost\n",
    "print(\"net return: ${}\".format(net_return))\n",
    "\n",
    "roi = (net_return/investment_cost)\n",
    "if roi < 0:\n",
    "    roi = (roi + 1)*100\n",
    "else: roi = (roi - 1)*100\n",
    "\n",
    "print(\"roi: {}%\".format(roi))\n",
    "\n",
    "import numpy as np\n",
    "import pandas as pd \n",
    "import matplotlib as plt\n",
    "\n",
    "prices = []\n",
    "stock = yf.Ticker(company)\n",
    "history_data = stock.history( period=period_len)\n",
    "prices = history_data['Close']\n",
    "price = stock.info[('currentPrice')]\n",
    "eps_trailing = stock.info[( 'trailingEps')]\n",
    "\n",
    "mean = np.mean(prices)\n",
    "print(\"mean price: {}\".format(mean))\n",
    "\n",
    "returns = np.diff(prices)/prices[:-1]\n",
    "std = np.std(returns)\n",
    "print(\"standard deviation: {}\".format(std))\n",
    "\n",
    "sharpe_ratio = (growth_rate - risk_free_rate)/std\n",
    "print(\"sharpe ratio: {}\".format(sharpe_ratio))\n",
    "\n",
    "pe_ratio = price / eps_trailing\n",
    "print(\"p/e ratio: {}\".format(pe_ratio))"
   ]
  }
 ],
 "metadata": {
  "kernelspec": {
   "display_name": "Python [conda env:base] *",
   "language": "python",
   "name": "conda-base-py"
  },
  "language_info": {
   "codemirror_mode": {
    "name": "ipython",
    "version": 3
   },
   "file_extension": ".py",
   "mimetype": "text/x-python",
   "name": "python",
   "nbconvert_exporter": "python",
   "pygments_lexer": "ipython3",
   "version": "3.12.7"
  }
 },
 "nbformat": 4,
 "nbformat_minor": 5
}
